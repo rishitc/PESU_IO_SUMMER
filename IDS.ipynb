{
 "cells": [
  {
   "cell_type": "code",
   "execution_count": 3,
   "metadata": {},
   "outputs": [],
   "source": [
    "import matplotlib.pyplot as plt\n",
    "import pandas as pd\n",
    "from pandas.tools.plotting import scatter_matrix\n",
    "import numpy as np\n",
    "import seaborn as sns\n",
    "import statistics as st\n",
    "import re\n",
    "\n",
    "# the following line makes use of panda to create a dataframe object from the give CSV file \n",
    "df = pd.read_csv('IDS-Data-Collection.csv')\n",
    "#This CSV contains information of three sections of the CSE department (Class of 2021), you can open it with excel and check how the CSV looks like"
   ]
  },
  {
   "cell_type": "code",
   "execution_count": 6,
   "metadata": {},
   "outputs": [
    {
     "data": {
      "text/html": [
       "<div>\n",
       "<style scoped>\n",
       "    .dataframe tbody tr th:only-of-type {\n",
       "        vertical-align: middle;\n",
       "    }\n",
       "\n",
       "    .dataframe tbody tr th {\n",
       "        vertical-align: top;\n",
       "    }\n",
       "\n",
       "    .dataframe thead th {\n",
       "        text-align: right;\n",
       "    }\n",
       "</style>\n",
       "<table border=\"1\" class=\"dataframe\">\n",
       "  <thead>\n",
       "    <tr style=\"text-align: right;\">\n",
       "      <th></th>\n",
       "      <th>Age</th>\n",
       "      <th>CGPA</th>\n",
       "      <th>Rate_Programming</th>\n",
       "      <th>Mean</th>\n",
       "    </tr>\n",
       "  </thead>\n",
       "  <tbody>\n",
       "    <tr>\n",
       "      <th>count</th>\n",
       "      <td>1.820000e+02</td>\n",
       "      <td>182.000000</td>\n",
       "      <td>182.000000</td>\n",
       "      <td>1.790000e+02</td>\n",
       "    </tr>\n",
       "    <tr>\n",
       "      <th>mean</th>\n",
       "      <td>7.527474e+07</td>\n",
       "      <td>8.258984</td>\n",
       "      <td>3.131868</td>\n",
       "      <td>6.897040e+06</td>\n",
       "    </tr>\n",
       "    <tr>\n",
       "      <th>std</th>\n",
       "      <td>1.015512e+09</td>\n",
       "      <td>2.493025</td>\n",
       "      <td>0.837106</td>\n",
       "      <td>9.227594e+07</td>\n",
       "    </tr>\n",
       "    <tr>\n",
       "      <th>min</th>\n",
       "      <td>0.000000e+00</td>\n",
       "      <td>0.000000</td>\n",
       "      <td>1.000000</td>\n",
       "      <td>2.000000e-10</td>\n",
       "    </tr>\n",
       "    <tr>\n",
       "      <th>25%</th>\n",
       "      <td>1.800000e+01</td>\n",
       "      <td>7.515000</td>\n",
       "      <td>3.000000</td>\n",
       "      <td>6.000000e+00</td>\n",
       "    </tr>\n",
       "    <tr>\n",
       "      <th>50%</th>\n",
       "      <td>1.900000e+01</td>\n",
       "      <td>8.270000</td>\n",
       "      <td>3.000000</td>\n",
       "      <td>6.000000e+00</td>\n",
       "    </tr>\n",
       "    <tr>\n",
       "      <th>75%</th>\n",
       "      <td>1.900000e+01</td>\n",
       "      <td>8.900000</td>\n",
       "      <td>4.000000</td>\n",
       "      <td>6.000000e+00</td>\n",
       "    </tr>\n",
       "    <tr>\n",
       "      <th>max</th>\n",
       "      <td>1.370000e+10</td>\n",
       "      <td>33.340000</td>\n",
       "      <td>5.000000</td>\n",
       "      <td>1.234568e+09</td>\n",
       "    </tr>\n",
       "  </tbody>\n",
       "</table>\n",
       "</div>"
      ],
      "text/plain": [
       "                Age        CGPA  Rate_Programming          Mean\n",
       "count  1.820000e+02  182.000000        182.000000  1.790000e+02\n",
       "mean   7.527474e+07    8.258984          3.131868  6.897040e+06\n",
       "std    1.015512e+09    2.493025          0.837106  9.227594e+07\n",
       "min    0.000000e+00    0.000000          1.000000  2.000000e-10\n",
       "25%    1.800000e+01    7.515000          3.000000  6.000000e+00\n",
       "50%    1.900000e+01    8.270000          3.000000  6.000000e+00\n",
       "75%    1.900000e+01    8.900000          4.000000  6.000000e+00\n",
       "max    1.370000e+10   33.340000          5.000000  1.234568e+09"
      ]
     },
     "execution_count": 6,
     "metadata": {},
     "output_type": "execute_result"
    }
   ],
   "source": [
    "#Basic operations on the data frame\n",
    "df.describe() #this gives the min, max, quartiles and other details of the csv columns.\n",
    "#The colums mean, median in the CSV are answers of students to basic statistic questions given to them while taking other info.\n"
   ]
  },
  {
   "cell_type": "code",
   "execution_count": 8,
   "metadata": {},
   "outputs": [
    {
     "data": {
      "text/html": [
       "<div>\n",
       "<style scoped>\n",
       "    .dataframe tbody tr th:only-of-type {\n",
       "        vertical-align: middle;\n",
       "    }\n",
       "\n",
       "    .dataframe tbody tr th {\n",
       "        vertical-align: top;\n",
       "    }\n",
       "\n",
       "    .dataframe thead th {\n",
       "        text-align: right;\n",
       "    }\n",
       "</style>\n",
       "<table border=\"1\" class=\"dataframe\">\n",
       "  <thead>\n",
       "    <tr style=\"text-align: right;\">\n",
       "      <th></th>\n",
       "      <th>Timestamp</th>\n",
       "      <th>Gender</th>\n",
       "      <th>Height</th>\n",
       "      <th>Weight</th>\n",
       "      <th>DOB</th>\n",
       "      <th>Age</th>\n",
       "      <th>Sun_Sign</th>\n",
       "      <th>CGPA</th>\n",
       "      <th>Rate_Programming</th>\n",
       "      <th>PL</th>\n",
       "      <th>...</th>\n",
       "      <th>Focus</th>\n",
       "      <th>DS_DA</th>\n",
       "      <th>Mean</th>\n",
       "      <th>Median</th>\n",
       "      <th>Sleep_time</th>\n",
       "      <th>sleep_duration</th>\n",
       "      <th>prefer_maths</th>\n",
       "      <th>Engg_Choice</th>\n",
       "      <th>course_instructor</th>\n",
       "      <th>physical_activity</th>\n",
       "    </tr>\n",
       "  </thead>\n",
       "  <tbody>\n",
       "    <tr>\n",
       "      <th>0</th>\n",
       "      <td>8/6/2018 11:58:38</td>\n",
       "      <td>Female</td>\n",
       "      <td>5'3</td>\n",
       "      <td>74</td>\n",
       "      <td>7/30/1999</td>\n",
       "      <td>19.0</td>\n",
       "      <td>Aquarius</td>\n",
       "      <td>8.29</td>\n",
       "      <td>3</td>\n",
       "      <td>C++</td>\n",
       "      <td>...</td>\n",
       "      <td>Data</td>\n",
       "      <td>No</td>\n",
       "      <td>6.0</td>\n",
       "      <td>8</td>\n",
       "      <td>11:00:00 PM</td>\n",
       "      <td>5</td>\n",
       "      <td>Yes</td>\n",
       "      <td>Yes</td>\n",
       "      <td>Doesn't matter</td>\n",
       "      <td>On daily basis</td>\n",
       "    </tr>\n",
       "    <tr>\n",
       "      <th>1</th>\n",
       "      <td>8/6/2018 11:59:24</td>\n",
       "      <td>Male</td>\n",
       "      <td>176</td>\n",
       "      <td>62</td>\n",
       "      <td>6/4/1999</td>\n",
       "      <td>19.0</td>\n",
       "      <td>Gemini</td>\n",
       "      <td>8.27</td>\n",
       "      <td>4</td>\n",
       "      <td>C</td>\n",
       "      <td>...</td>\n",
       "      <td>Data</td>\n",
       "      <td>May be</td>\n",
       "      <td>6.0</td>\n",
       "      <td>9</td>\n",
       "      <td>1:00:00 AM</td>\n",
       "      <td>6.5</td>\n",
       "      <td>No</td>\n",
       "      <td>Yes</td>\n",
       "      <td>Doesn't matter</td>\n",
       "      <td>Once in a week</td>\n",
       "    </tr>\n",
       "    <tr>\n",
       "      <th>2</th>\n",
       "      <td>8/6/2018 11:59:47</td>\n",
       "      <td>Male</td>\n",
       "      <td>176</td>\n",
       "      <td>62</td>\n",
       "      <td>6/4/1999</td>\n",
       "      <td>19.0</td>\n",
       "      <td>Gemini</td>\n",
       "      <td>8.27</td>\n",
       "      <td>4</td>\n",
       "      <td>C</td>\n",
       "      <td>...</td>\n",
       "      <td>Data</td>\n",
       "      <td>May be</td>\n",
       "      <td>6.0</td>\n",
       "      <td>9</td>\n",
       "      <td>1:00:00 AM</td>\n",
       "      <td>6.5</td>\n",
       "      <td>No</td>\n",
       "      <td>Yes</td>\n",
       "      <td>Doesn't matter</td>\n",
       "      <td>Once in a week</td>\n",
       "    </tr>\n",
       "    <tr>\n",
       "      <th>3</th>\n",
       "      <td>8/6/2018 11:59:53</td>\n",
       "      <td>Female</td>\n",
       "      <td>145</td>\n",
       "      <td>60</td>\n",
       "      <td>2/21/2000</td>\n",
       "      <td>18.0</td>\n",
       "      <td>Don't Know</td>\n",
       "      <td>9.21</td>\n",
       "      <td>3</td>\n",
       "      <td>Python</td>\n",
       "      <td>...</td>\n",
       "      <td>Data</td>\n",
       "      <td>No</td>\n",
       "      <td>6.0</td>\n",
       "      <td>9</td>\n",
       "      <td>11:00:00 AM</td>\n",
       "      <td>6</td>\n",
       "      <td>Yes</td>\n",
       "      <td>Yes</td>\n",
       "      <td>Doesn't matter</td>\n",
       "      <td>Once in a week</td>\n",
       "    </tr>\n",
       "    <tr>\n",
       "      <th>4</th>\n",
       "      <td>8/6/2018 11:59:58</td>\n",
       "      <td>Male</td>\n",
       "      <td>185</td>\n",
       "      <td>56</td>\n",
       "      <td>8/15/1999</td>\n",
       "      <td>19.0</td>\n",
       "      <td>Leo</td>\n",
       "      <td>8.46</td>\n",
       "      <td>4</td>\n",
       "      <td>C</td>\n",
       "      <td>...</td>\n",
       "      <td>Data</td>\n",
       "      <td>No</td>\n",
       "      <td>6.0</td>\n",
       "      <td>8</td>\n",
       "      <td>11:30:00 PM</td>\n",
       "      <td>8</td>\n",
       "      <td>Yes</td>\n",
       "      <td>Yes</td>\n",
       "      <td>Doesn't matter</td>\n",
       "      <td>Once in a week</td>\n",
       "    </tr>\n",
       "  </tbody>\n",
       "</table>\n",
       "<p>5 rows × 21 columns</p>\n",
       "</div>"
      ],
      "text/plain": [
       "           Timestamp  Gender Height Weight        DOB   Age    Sun_Sign  CGPA  \\\n",
       "0  8/6/2018 11:58:38  Female    5'3     74  7/30/1999  19.0    Aquarius  8.29   \n",
       "1  8/6/2018 11:59:24    Male    176     62   6/4/1999  19.0      Gemini  8.27   \n",
       "2  8/6/2018 11:59:47    Male    176     62   6/4/1999  19.0      Gemini  8.27   \n",
       "3  8/6/2018 11:59:53  Female    145     60  2/21/2000  18.0  Don't Know  9.21   \n",
       "4  8/6/2018 11:59:58    Male    185     56  8/15/1999  19.0         Leo  8.46   \n",
       "\n",
       "   Rate_Programming      PL        ...        Focus   DS_DA Mean  Median  \\\n",
       "0                 3     C++        ...         Data      No  6.0       8   \n",
       "1                 4       C        ...         Data  May be  6.0       9   \n",
       "2                 4       C        ...         Data  May be  6.0       9   \n",
       "3                 3  Python        ...         Data      No  6.0       9   \n",
       "4                 4       C        ...         Data      No  6.0       8   \n",
       "\n",
       "    Sleep_time sleep_duration prefer_maths Engg_Choice course_instructor  \\\n",
       "0  11:00:00 PM              5          Yes         Yes    Doesn't matter   \n",
       "1   1:00:00 AM            6.5           No         Yes    Doesn't matter   \n",
       "2   1:00:00 AM            6.5           No         Yes    Doesn't matter   \n",
       "3  11:00:00 AM              6          Yes         Yes    Doesn't matter   \n",
       "4  11:30:00 PM              8          Yes         Yes    Doesn't matter   \n",
       "\n",
       "  physical_activity  \n",
       "0    On daily basis  \n",
       "1    Once in a week  \n",
       "2    Once in a week  \n",
       "3    Once in a week  \n",
       "4    Once in a week  \n",
       "\n",
       "[5 rows x 21 columns]"
      ]
     },
     "execution_count": 8,
     "metadata": {},
     "output_type": "execute_result"
    }
   ],
   "source": [
    "df.head() #returns the first n rows, default value being 5"
   ]
  },
  {
   "cell_type": "code",
   "execution_count": 10,
   "metadata": {},
   "outputs": [
    {
     "data": {
      "text/html": [
       "<div>\n",
       "<style scoped>\n",
       "    .dataframe tbody tr th:only-of-type {\n",
       "        vertical-align: middle;\n",
       "    }\n",
       "\n",
       "    .dataframe tbody tr th {\n",
       "        vertical-align: top;\n",
       "    }\n",
       "\n",
       "    .dataframe thead th {\n",
       "        text-align: right;\n",
       "    }\n",
       "</style>\n",
       "<table border=\"1\" class=\"dataframe\">\n",
       "  <thead>\n",
       "    <tr style=\"text-align: right;\">\n",
       "      <th></th>\n",
       "      <th>Timestamp</th>\n",
       "      <th>Gender</th>\n",
       "      <th>Height</th>\n",
       "      <th>Weight</th>\n",
       "      <th>DOB</th>\n",
       "      <th>Age</th>\n",
       "      <th>Sun_Sign</th>\n",
       "      <th>CGPA</th>\n",
       "      <th>Rate_Programming</th>\n",
       "      <th>PL</th>\n",
       "      <th>...</th>\n",
       "      <th>Focus</th>\n",
       "      <th>DS_DA</th>\n",
       "      <th>Mean</th>\n",
       "      <th>Median</th>\n",
       "      <th>Sleep_time</th>\n",
       "      <th>sleep_duration</th>\n",
       "      <th>prefer_maths</th>\n",
       "      <th>Engg_Choice</th>\n",
       "      <th>course_instructor</th>\n",
       "      <th>physical_activity</th>\n",
       "    </tr>\n",
       "  </thead>\n",
       "  <tbody>\n",
       "    <tr>\n",
       "      <th>177</th>\n",
       "      <td>8/7/2018 11:04:24</td>\n",
       "      <td>Male</td>\n",
       "      <td>170</td>\n",
       "      <td>69</td>\n",
       "      <td>7/23/1999</td>\n",
       "      <td>19.0</td>\n",
       "      <td>Leo</td>\n",
       "      <td>7.58</td>\n",
       "      <td>3</td>\n",
       "      <td>C</td>\n",
       "      <td>...</td>\n",
       "      <td>Data</td>\n",
       "      <td>Yes</td>\n",
       "      <td>6.0</td>\n",
       "      <td>5.5</td>\n",
       "      <td>11:00:00 PM</td>\n",
       "      <td>7</td>\n",
       "      <td>Yes</td>\n",
       "      <td>Yes</td>\n",
       "      <td>Doesn't matter</td>\n",
       "      <td>On daily basis</td>\n",
       "    </tr>\n",
       "    <tr>\n",
       "      <th>178</th>\n",
       "      <td>8/7/2018 11:04:32</td>\n",
       "      <td>Male</td>\n",
       "      <td>165</td>\n",
       "      <td>55</td>\n",
       "      <td>7/21/1999</td>\n",
       "      <td>19.0</td>\n",
       "      <td>Libra</td>\n",
       "      <td>9.82</td>\n",
       "      <td>4</td>\n",
       "      <td>Python</td>\n",
       "      <td>...</td>\n",
       "      <td>Science</td>\n",
       "      <td>Yes</td>\n",
       "      <td>6.0</td>\n",
       "      <td>8</td>\n",
       "      <td>10:30:00 PM</td>\n",
       "      <td>8</td>\n",
       "      <td>Yes</td>\n",
       "      <td>Yes</td>\n",
       "      <td>Female</td>\n",
       "      <td>Not so often</td>\n",
       "    </tr>\n",
       "    <tr>\n",
       "      <th>179</th>\n",
       "      <td>8/7/2018 11:05:23</td>\n",
       "      <td>Male</td>\n",
       "      <td>5.9</td>\n",
       "      <td>65</td>\n",
       "      <td>5/16/1999</td>\n",
       "      <td>19.0</td>\n",
       "      <td>Taurus</td>\n",
       "      <td>8.00</td>\n",
       "      <td>4</td>\n",
       "      <td>C</td>\n",
       "      <td>...</td>\n",
       "      <td>Data</td>\n",
       "      <td>May be</td>\n",
       "      <td>NaN</td>\n",
       "      <td>8</td>\n",
       "      <td>11:30:00 PM</td>\n",
       "      <td>7</td>\n",
       "      <td>Yes</td>\n",
       "      <td>Doesn't matter</td>\n",
       "      <td>Doesn't matter</td>\n",
       "      <td>Not so often</td>\n",
       "    </tr>\n",
       "    <tr>\n",
       "      <th>180</th>\n",
       "      <td>8/7/2018 18:23:17</td>\n",
       "      <td>Male</td>\n",
       "      <td>170</td>\n",
       "      <td>50</td>\n",
       "      <td>9/7/1999</td>\n",
       "      <td>19.0</td>\n",
       "      <td>Capricorn</td>\n",
       "      <td>9.22</td>\n",
       "      <td>4</td>\n",
       "      <td>C</td>\n",
       "      <td>...</td>\n",
       "      <td>Science</td>\n",
       "      <td>No</td>\n",
       "      <td>6.0</td>\n",
       "      <td>8</td>\n",
       "      <td>11:00:00 PM</td>\n",
       "      <td>7</td>\n",
       "      <td>Yes</td>\n",
       "      <td>Yes</td>\n",
       "      <td>Doesn't matter</td>\n",
       "      <td>Once in a week</td>\n",
       "    </tr>\n",
       "    <tr>\n",
       "      <th>181</th>\n",
       "      <td>8/13/2018 18:36:34</td>\n",
       "      <td>Male</td>\n",
       "      <td>185</td>\n",
       "      <td>114</td>\n",
       "      <td>12/30/1998</td>\n",
       "      <td>19.0</td>\n",
       "      <td>Capricorn</td>\n",
       "      <td>8.05</td>\n",
       "      <td>4</td>\n",
       "      <td>Python</td>\n",
       "      <td>...</td>\n",
       "      <td>Science</td>\n",
       "      <td>No</td>\n",
       "      <td>6.0</td>\n",
       "      <td>9</td>\n",
       "      <td>12:30:00 PM</td>\n",
       "      <td>6</td>\n",
       "      <td>No</td>\n",
       "      <td>Yes</td>\n",
       "      <td>Female</td>\n",
       "      <td>Not so often</td>\n",
       "    </tr>\n",
       "  </tbody>\n",
       "</table>\n",
       "<p>5 rows × 21 columns</p>\n",
       "</div>"
      ],
      "text/plain": [
       "              Timestamp Gender Height Weight         DOB   Age   Sun_Sign  \\\n",
       "177   8/7/2018 11:04:24   Male    170     69   7/23/1999  19.0        Leo   \n",
       "178   8/7/2018 11:04:32   Male    165     55   7/21/1999  19.0      Libra   \n",
       "179   8/7/2018 11:05:23   Male    5.9     65   5/16/1999  19.0     Taurus   \n",
       "180   8/7/2018 18:23:17   Male    170     50    9/7/1999  19.0  Capricorn   \n",
       "181  8/13/2018 18:36:34   Male    185    114  12/30/1998  19.0  Capricorn   \n",
       "\n",
       "     CGPA  Rate_Programming      PL        ...           Focus   DS_DA Mean  \\\n",
       "177  7.58                 3       C        ...            Data     Yes  6.0   \n",
       "178  9.82                 4  Python        ...         Science     Yes  6.0   \n",
       "179  8.00                 4       C        ...            Data  May be  NaN   \n",
       "180  9.22                 4       C        ...         Science      No  6.0   \n",
       "181  8.05                 4  Python        ...         Science      No  6.0   \n",
       "\n",
       "     Median   Sleep_time sleep_duration prefer_maths     Engg_Choice  \\\n",
       "177     5.5  11:00:00 PM              7          Yes             Yes   \n",
       "178       8  10:30:00 PM              8          Yes             Yes   \n",
       "179       8  11:30:00 PM              7          Yes  Doesn't matter   \n",
       "180       8  11:00:00 PM              7          Yes             Yes   \n",
       "181       9  12:30:00 PM              6           No             Yes   \n",
       "\n",
       "    course_instructor physical_activity  \n",
       "177    Doesn't matter    On daily basis  \n",
       "178            Female      Not so often  \n",
       "179    Doesn't matter      Not so often  \n",
       "180    Doesn't matter    Once in a week  \n",
       "181            Female      Not so often  \n",
       "\n",
       "[5 rows x 21 columns]"
      ]
     },
     "execution_count": 10,
     "metadata": {},
     "output_type": "execute_result"
    }
   ],
   "source": [
    "df.tail() #returns the alst n rows, default val = 5"
   ]
  },
  {
   "cell_type": "code",
   "execution_count": 12,
   "metadata": {},
   "outputs": [
    {
     "data": {
      "text/plain": [
       "Index(['Timestamp', 'Gender', 'Height', 'Weight', 'DOB', 'Age', 'Sun_Sign',\n",
       "       'CGPA', 'Rate_Programming', 'PL', 'Sim_Course', 'Focus', 'DS_DA',\n",
       "       'Mean', 'Median', 'Sleep_time', 'sleep_duration', 'prefer_maths',\n",
       "       'Engg_Choice', 'course_instructor', 'physical_activity'],\n",
       "      dtype='object')"
      ]
     },
     "execution_count": 12,
     "metadata": {},
     "output_type": "execute_result"
    }
   ],
   "source": [
    "df.columns #gives the list of columns in the csv"
   ]
  },
  {
   "cell_type": "code",
   "execution_count": 14,
   "metadata": {},
   "outputs": [
    {
     "data": {
      "text/plain": [
       "(182, 21)"
      ]
     },
     "execution_count": 14,
     "metadata": {},
     "output_type": "execute_result"
    }
   ],
   "source": [
    "df.shape #gives the shape of the dataframe ----> 182 records/rows x 21 attributes per record"
   ]
  },
  {
   "cell_type": "code",
   "execution_count": 15,
   "metadata": {},
   "outputs": [
    {
     "data": {
      "text/plain": [
       "'\\nIMPORTANT NOTE!\\n\\nIF YOU GO THROUGH THE CSV FILE, THERE\\'S A LOT OF INVALID INFO, BASICALLY THE DATA IS NOT CLEAN.\\nFOR EXAMPLE, SOME STUDENTS HAVE ENTERED A CGPA OF >10, HENCE WE NEED TO CLEAN SUCH COLUMNS WHOM WE NEED TO WORK WITH\\nTHE FOLLOWING CODE IS FOR \"DATA-CLEANING\".\\n'"
      ]
     },
     "execution_count": 15,
     "metadata": {},
     "output_type": "execute_result"
    }
   ],
   "source": [
    "'''\n",
    "IMPORTANT NOTE!\n",
    "\n",
    "IF YOU GO THROUGH THE CSV FILE, THERE'S A LOT OF INVALID INFO, BASICALLY THE DATA IS NOT CLEAN.\n",
    "FOR EXAMPLE, SOME STUDENTS HAVE ENTERED A CGPA OF >10, HENCE WE NEED TO CLEAN SUCH COLUMNS WHOM WE NEED TO WORK WITH\n",
    "THE FOLLOWING CODE IS FOR \"DATA-CLEANING\".\n",
    "'''"
   ]
  },
  {
   "cell_type": "code",
   "execution_count": 16,
   "metadata": {},
   "outputs": [
    {
     "name": "stderr",
     "output_type": "stream",
     "text": [
      "C:\\Users\\Deepak\\Anaconda3\\lib\\site-packages\\pandas\\core\\indexing.py:189: SettingWithCopyWarning: \n",
      "A value is trying to be set on a copy of a slice from a DataFrame\n",
      "\n",
      "See the caveats in the documentation: http://pandas.pydata.org/pandas-docs/stable/indexing.html#indexing-view-versus-copy\n",
      "  self._setitem_with_indexer(indexer, value)\n"
     ]
    }
   ],
   "source": [
    "#Cleaning CGPA \n",
    "for index, row in df.CGPA.iteritems():\n",
    "    if row < 2.5 or row > 10:\n",
    "        df.CGPA.loc[index] = np.median(df.CGPA) #Replaces CGPA records lesser than 2,5 and greater than 10 with the median of the cgpa column\n",
    "\n",
    "#Note that cleaning the data does not actually change the CSV File! It changes the content of the dataframe (df) object!\n",
    "#Ignore the warning "
   ]
  },
  {
   "cell_type": "code",
   "execution_count": 20,
   "metadata": {},
   "outputs": [
    {
     "name": "stderr",
     "output_type": "stream",
     "text": [
      "C:\\Users\\Deepak\\Anaconda3\\lib\\site-packages\\pandas\\core\\indexing.py:189: SettingWithCopyWarning: \n",
      "A value is trying to be set on a copy of a slice from a DataFrame\n",
      "\n",
      "See the caveats in the documentation: http://pandas.pydata.org/pandas-docs/stable/indexing.html#indexing-view-versus-copy\n",
      "  self._setitem_with_indexer(indexer, value)\n"
     ]
    }
   ],
   "source": [
    "#Cleaning Height\n",
    "#the following function checks if the give value is float, please revise exception handling if you don't understand the code.\n",
    "'''\n",
    "If you look at the height column many of them are such that they cannot be converted into float, ex: 154cm\n",
    "Many of them are in feet, i.e they can be converted into float but but need to be then converted into cm.\n",
    "\n",
    "'''\n",
    "def isfloat(value):\n",
    "    try:\n",
    "        float(value)\n",
    "        return True\n",
    "    except:\n",
    "        return False\n",
    "\n",
    "for index, row in df['Height'].iteritems():\n",
    "    if(isfloat(row)): #If the value of height is a float \n",
    "        if(float(row) < 10): #and it's in feet\n",
    "            df['Height'].loc[index] = float(row) * 30.48 #convert it into cm\n",
    "        else :\n",
    "            df['Height'].loc[index] = float(row) #leave it as it is by converting it into float if it's in cm\n",
    "    else :\n",
    "        y = re.split(\"['|cm|mm]\", row) #if they word cm or mm is there, split it accordingly using regular expressions\n",
    "        if(isfloat(y[0])):\n",
    "            if(float(y[0]) < 10):\n",
    "                df['Height'].loc[index] =  float(y[0]) * 30.48 + float(y[1]) * 2.54\n",
    "            else:\n",
    "                df['Height'].loc[index] = float(y[0])\n",
    "        else:\n",
    "            df['Height'].loc[index] = np.NaN #all the cases that aren't covered are given a value NaN which will be treated as a NIL type in pandas\n",
    "        \n",
    "df.Height = df.Height.fillna(np.median(df.Height)) #fill all NaN with median \n",
    "\n",
    "for index, row in df['Height'].iteritems(): #self explanatory\n",
    "    if row <=100:\n",
    "        df.Height.loc[index] = np.median(df.Height)\n",
    "        \n",
    " "
   ]
  },
  {
   "cell_type": "code",
   "execution_count": 21,
   "metadata": {},
   "outputs": [
    {
     "name": "stderr",
     "output_type": "stream",
     "text": [
      "C:\\Users\\Deepak\\Anaconda3\\lib\\site-packages\\pandas\\core\\indexing.py:189: SettingWithCopyWarning: \n",
      "A value is trying to be set on a copy of a slice from a DataFrame\n",
      "\n",
      "See the caveats in the documentation: http://pandas.pydata.org/pandas-docs/stable/indexing.html#indexing-view-versus-copy\n",
      "  self._setitem_with_indexer(indexer, value)\n"
     ]
    }
   ],
   "source": [
    "#Cleaning Weight Column\n",
    "for index, row in df['Weight'].iteritems():\n",
    "    if(isfloat(row)):\n",
    "        df['Weight'].loc[index] = float(row)\n",
    "    else :\n",
    "        y = re.split(\"[kgs|Kg]\", row)\n",
    "        if(isfloat(y[0])):\n",
    "            df['Weight'].loc[index] =  float(y[0])\n",
    "        else:\n",
    "            df['Weight'].loc[index] = np.NaN\n",
    "            \n",
    "df.Weight = df.Weight.fillna(np.mean(df.Weight))\n"
   ]
  },
  {
   "cell_type": "code",
   "execution_count": 22,
   "metadata": {},
   "outputs": [
    {
     "name": "stderr",
     "output_type": "stream",
     "text": [
      "C:\\Users\\Deepak\\Anaconda3\\lib\\site-packages\\pandas\\core\\indexing.py:189: SettingWithCopyWarning: \n",
      "A value is trying to be set on a copy of a slice from a DataFrame\n",
      "\n",
      "See the caveats in the documentation: http://pandas.pydata.org/pandas-docs/stable/indexing.html#indexing-view-versus-copy\n",
      "  self._setitem_with_indexer(indexer, value)\n"
     ]
    }
   ],
   "source": [
    "#Cleaning sleep_duration\n",
    "for index, row in df['sleep_duration'].iteritems():\n",
    "    if(isfloat(row) and float(row) < 15):\n",
    "        df['sleep_duration'].loc[index] = float(row)\n",
    "    else:\n",
    "        y = re.split(\"[-|:|hr|hrs|and]\", row)\n",
    "        if(isfloat(y[0]) and float(y[0]) < 15):\n",
    "            df.sleep_duration.loc[index] = float(y[0])\n",
    "        else:\n",
    "            df.sleep_duration.loc[index] = np.NaN\n",
    "            \n",
    "df.sleep_duration = df.sleep_duration.fillna(np.mean(df.sleep_duration))"
   ]
  },
  {
   "cell_type": "code",
   "execution_count": 23,
   "metadata": {},
   "outputs": [
    {
     "data": {
      "image/png": "[encoded data removed]",
      "text/plain": [
       "<Figure size 432x288 with 1 Axes>"
      ]
     },
     "metadata": {},
     "output_type": "display_data"
    }
   ],
   "source": [
    "#Plotting Histograms using matplotlib; number of bins by default = 10 . (equal bin histogram)\n",
    "freq, bins, patches = plt.hist(df.CGPA)  #fetching freq in each bin and bin values\n",
    "plt.xlabel('CGPA')\n",
    "plt.ylabel('Frequency')\n",
    "plt.title('CGPA Histogram')\n",
    "plt.show()"
   ]
  },
  {
   "cell_type": "code",
   "execution_count": 24,
   "metadata": {},
   "outputs": [
    {
     "data": {
      "image/png": "[encoded data removed]",
      "text/plain": [
       "<Figure size 432x288 with 1 Axes>"
      ]
     },
     "metadata": {},
     "output_type": "display_data"
    }
   ],
   "source": [
    "plt.hist(df.Height)\n",
    "plt.xlabel('Height')\n",
    "plt.ylabel('Frequency')\n",
    "plt.title('Height Histogram')\n",
    "plt.show()"
   ]
  },
  {
   "cell_type": "code",
   "execution_count": 25,
   "metadata": {},
   "outputs": [
    {
     "data": {
      "image/png": "[encoded data removed]",
      "text/plain": [
       "<Figure size 432x288 with 1 Axes>"
      ]
     },
     "metadata": {},
     "output_type": "display_data"
    }
   ],
   "source": [
    "plt.hist(df.Weight)\n",
    "plt.xlabel('Weight')\n",
    "plt.ylabel('Frequency')\n",
    "plt.title('Weight Histogram')\n",
    "plt.show()    "
   ]
  },
  {
   "cell_type": "code",
   "execution_count": 26,
   "metadata": {},
   "outputs": [
    {
     "data": {
      "image/png": "[encoded data removed]",
      "text/plain": [
       "<Figure size 432x288 with 1 Axes>"
      ]
     },
     "metadata": {},
     "output_type": "display_data"
    }
   ],
   "source": [
    "plt.hist(df.sleep_duration)\n",
    "plt.xlabel('Sleep Duration ')\n",
    "plt.ylabel('Frequency')\n",
    "plt.title('Sleep Duration Histogram')\n",
    "plt.show()"
   ]
  },
  {
   "cell_type": "code",
   "execution_count": 28,
   "metadata": {},
   "outputs": [
    {
     "name": "stderr",
     "output_type": "stream",
     "text": [
      "C:\\Users\\Deepak\\Anaconda3\\lib\\site-packages\\matplotlib\\axes\\_axes.py:6462: UserWarning: The 'normed' kwarg is deprecated, and has been replaced by the 'density' kwarg.\n",
      "  warnings.warn(\"The 'normed' kwarg is deprecated, and has been \"\n"
     ]
    },
    {
     "data": {
      "image/png": "[encoded data removed]",
      "text/plain": [
       "<Figure size 432x288 with 1 Axes>"
      ]
     },
     "metadata": {},
     "output_type": "display_data"
    }
   ],
   "source": [
    "#plotting histogram using seaborn\n",
    "sns.distplot(df.Height) #uses a standard rule to calculate number of bins and fits a plot on the histogram\n",
    "plt.show()\n",
    "# A much easier and accurate visualization method to use seaborn!! Not as comlicated as matplotlib"
   ]
  },
  {
   "cell_type": "code",
   "execution_count": 29,
   "metadata": {},
   "outputs": [
    {
     "data": {
      "image/png": "[encoded data removed]",
      "text/plain": [
       "<Figure size 432x288 with 1 Axes>"
      ]
     },
     "metadata": {},
     "output_type": "display_data"
    },
    {
     "data": {
      "image/png": "[encoded data removed]",
      "text/plain": [
       "<Figure size 432x288 with 1 Axes>"
      ]
     },
     "metadata": {},
     "output_type": "display_data"
    },
    {
     "data": {
      "image/png": "[encoded data removed]",
      "text/plain": [
       "<Figure size 432x288 with 1 Axes>"
      ]
     },
     "metadata": {},
     "output_type": "display_data"
    }
   ],
   "source": [
    "#plotting scatter plot\n",
    "plt.scatter(df.Height, df.Weight)\n",
    "plt.xlabel('Height ')\n",
    "plt.ylabel('Weight')\n",
    "plt.title('Height vs Weight')\n",
    "plt.show()\n",
    "\n",
    "plt.scatter(df.sleep_duration, df.Weight)\n",
    "plt.xlabel('Sleep Duration ')\n",
    "plt.ylabel('Weight')\n",
    "plt.title('Sleep Duration vs. Weight')\n",
    "plt.show()\n",
    "\n",
    "plt.scatter(df.sleep_duration, df.CGPA)\n",
    "plt.xlabel('Sleep Duration ')\n",
    "plt.ylabel('CGPA')\n",
    "plt.title('Sleep Duration vs. CGPA')\n",
    "plt.show()\n"
   ]
  },
  {
   "cell_type": "code",
   "execution_count": 30,
   "metadata": {},
   "outputs": [
    {
     "data": {
      "image/png": "[encoded data removed]",
      "text/plain": [
       "<Figure size 432x288 with 1 Axes>"
      ]
     },
     "metadata": {},
     "output_type": "display_data"
    },
    {
     "data": {
      "image/png": "[encoded data removed]",
      "text/plain": [
       "<Figure size 432x288 with 1 Axes>"
      ]
     },
     "metadata": {},
     "output_type": "display_data"
    },
    {
     "data": {
      "image/png": "[encoded data removed]",
      "text/plain": [
       "<Figure size 432x288 with 1 Axes>"
      ]
     },
     "metadata": {},
     "output_type": "display_data"
    },
    {
     "data": {
      "image/png": "[encoded data removed]",
      "text/plain": [
       "<Figure size 432x288 with 1 Axes>"
      ]
     },
     "metadata": {},
     "output_type": "display_data"
    },
    {
     "data": {
      "image/png": "[encoded data removed]",
      "text/plain": [
       "<Figure size 432x288 with 1 Axes>"
      ]
     },
     "metadata": {},
     "output_type": "display_data"
    },
    {
     "data": {
      "image/png": "[encoded data removed]",
      "text/plain": [
       "<Figure size 432x288 with 1 Axes>"
      ]
     },
     "metadata": {},
     "output_type": "display_data"
    },
    {
     "data": {
      "image/png": "[encoded data removed]",
      "text/plain": [
       "<Figure size 432x288 with 1 Axes>"
      ]
     },
     "metadata": {},
     "output_type": "display_data"
    }
   ],
   "source": [
    "\n",
    "#Barcharts ; can also use plt.bar(no of categories, frequency)\n",
    "df.Gender.value_counts().plot(kind=\"bar\")\n",
    "plt.xlabel('Gender')\n",
    "plt.ylabel('Count')\n",
    "plt.title('Bar Plot')\n",
    "plt.show()\n",
    "df.course_instructor.value_counts().plot(kind = \"bar\")\n",
    "plt.xlabel('Course Instructor ')\n",
    "plt.ylabel('Count')\n",
    "plt.title('Bar Plot')\n",
    "plt.show()\n",
    "df.Rate_Programming.value_counts().plot(kind = \"bar\")\n",
    "plt.xlabel('Programming')\n",
    "plt.ylabel('Count')\n",
    "plt.title('Bar Plot')\n",
    "plt.show()\n",
    "df.Focus.value_counts().plot(kind = \"bar\")\n",
    "plt.xlabel('Focus : Data or Science')\n",
    "plt.ylabel('Count')\n",
    "plt.title('Bar Plot')\n",
    "plt.show()\n",
    "df.Engg_Choice.value_counts().plot(kind = \"bar\")\n",
    "plt.xlabel('Engineering by Choice')\n",
    "plt.ylabel('Count')\n",
    "plt.title('Bar Plot')\n",
    "plt.show()\n",
    "df.physical_activity.value_counts().plot(kind=\"bar\")\n",
    "plt.xlabel('Physical Activity')\n",
    "plt.ylabel('Count')\n",
    "plt.title('Bar Plot')\n",
    "plt.show()\n",
    "df.prefer_maths.value_counts().plot(kind = \"bar\")\n",
    "plt.xlabel('Prefer Maths')\n",
    "plt.ylabel('Count')\n",
    "plt.title('Bar Plot')\n",
    "plt.show()\n"
   ]
  },
  {
   "cell_type": "code",
   "execution_count": 31,
   "metadata": {},
   "outputs": [
    {
     "data": {
      "image/png": "[encoded data removed]",
      "text/plain": [
       "<Figure size 360.625x288 with 1 Axes>"
      ]
     },
     "metadata": {},
     "output_type": "display_data"
    },
    {
     "data": {
      "image/png": "[encoded data removed]",
      "text/plain": [
       "<Figure size 360.625x288 with 1 Axes>"
      ]
     },
     "metadata": {},
     "output_type": "display_data"
    },
    {
     "data": {
      "image/png": "[encoded data removed]",
      "text/plain": [
       "<Figure size 432x288 with 1 Axes>"
      ]
     },
     "metadata": {},
     "output_type": "display_data"
    },
    {
     "data": {
      "image/png": "[encoded data removed]",
      "text/plain": [
       "<Figure size 432x288 with 1 Axes>"
      ]
     },
     "metadata": {},
     "output_type": "display_data"
    }
   ],
   "source": [
    "#In the set of arguments ci stands for confidence interval, please ignore this as of now.\n",
    "#Grouped Bar Charts\n",
    "sns.factorplot(x=\"Rate_Programming\", y=\"CGPA\", hue=\"Gender\", data=df,kind=\"bar\", ci = None)\n",
    "plt.show()\n",
    "\n",
    "x= sns.factorplot(x=\"physical_activity\", y=\"Weight\", hue=\"Gender\", data=df,kind=\"bar\", ci = None)\n",
    "x.set_xticklabels(rotation=90)\n",
    "plt.show()\n",
    "\n",
    "#comparative box plots\n",
    "sns.boxplot(x='Gender', y='CGPA', data=df)\n",
    "plt.ylim(0, 11)\n",
    "plt.show()\n",
    "\n",
    "sns.boxplot(x='physical_activity', y='CGPA', data=df)\n",
    "plt.ylim(0, 11)\n",
    "plt.show()\n"
   ]
  },
  {
   "cell_type": "code",
   "execution_count": null,
   "metadata": {},
   "outputs": [],
   "source": []
  }
 ],
 "metadata": {
  "kernelspec": {
   "display_name": "Python 3",
   "language": "python",
   "name": "python3"
  },
  "language_info": {
   "codemirror_mode": {
    "name": "ipython",
    "version": 3
   },
   "file_extension": ".py",
   "mimetype": "text/x-python",
   "name": "python",
   "nbconvert_exporter": "python",
   "pygments_lexer": "ipython3",
   "version": "3.6.5"
  }
 },
 "nbformat": 4,
 "nbformat_minor": 2
}
